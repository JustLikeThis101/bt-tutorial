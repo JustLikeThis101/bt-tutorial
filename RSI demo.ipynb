{
 "cells": [
  {
   "cell_type": "code",
   "execution_count": 22,
   "id": "d8d979ec",
   "metadata": {},
   "outputs": [],
   "source": [
    "import bt\n",
    "import pandas as pd\n",
    "import talib as ta\n",
    "\n",
    "# List of stock symbols to test\n",
    "\n",
    "stock_symbols = ['AAPL', 'GOOGL', 'MSFT', 'AMZN', 'META']\n",
    "\n",
    "data = bt.get(stock_symbols, start='2024-01-01', end='2024-5-21')\n",
    "\n",
    "# Fill NaN values with zero\n",
    "\n",
    "data_filled = data.fillna(0)\n",
    "\n",
    "# Calculate RSI for each stock\n",
    "\n",
    "rsi = data_filled.apply(lambda x: ta.RSI(x, timeperiod=14))\n",
    "\n",
    "# Calculate ROC for each stock\n",
    "\n",
    "roc = data_filled.apply(lambda x: ta.ROC(x, timeperiod=25))\n",
    "#roc = data_filled.pct_change(25) * 100 # 25-day ROC, multiplied by 100 for percentage\n",
    "\n",
    "# Create signals based on RSI and momentum"
   ]
  },
  {
   "cell_type": "code",
   "execution_count": 15,
   "id": "56da00a5",
   "metadata": {},
   "outputs": [],
   "source": [
    "import dtale"
   ]
  },
  {
   "cell_type": "code",
   "execution_count": 16,
   "id": "3008c2b3",
   "metadata": {},
   "outputs": [
    {
     "data": {
      "text/html": [
       "\n",
       "        <iframe\n",
       "            width=\"100%\"\n",
       "            height=\"475\"\n",
       "            src=\"http://CNMIDCHZMY0015:40000/dtale/iframe/3\"\n",
       "            frameborder=\"0\"\n",
       "            allowfullscreen\n",
       "            \n",
       "        ></iframe>\n",
       "        "
      ],
      "text/plain": [
       "<IPython.lib.display.IFrame at 0x16ab0b340>"
      ]
     },
     "metadata": {},
     "output_type": "display_data"
    },
    {
     "data": {
      "text/plain": []
     },
     "execution_count": 16,
     "metadata": {},
     "output_type": "execute_result"
    },
    {
     "name": "stdout",
     "output_type": "stream",
     "text": [
      "Exception on /dtale/main/highLightTitle.png [GET]\n",
      "Traceback (most recent call last):\n",
      "  File \"/Users/zlying/opt/miniconda3/envs/py310/lib/python3.10/site-packages/flask/app.py\", line 2528, in wsgi_app\n",
      "    response = self.full_dispatch_request()\n",
      "  File \"/Users/zlying/opt/miniconda3/envs/py310/lib/python3.10/site-packages/flask/app.py\", line 1825, in full_dispatch_request\n",
      "    rv = self.handle_user_exception(e)\n",
      "  File \"/Users/zlying/opt/miniconda3/envs/py310/lib/python3.10/site-packages/flask/app.py\", line 1823, in full_dispatch_request\n",
      "    rv = self.dispatch_request()\n",
      "  File \"/Users/zlying/opt/miniconda3/envs/py310/lib/python3.10/site-packages/flask/app.py\", line 1799, in dispatch_request\n",
      "    return self.ensure_sync(self.view_functions[rule.endpoint])(**view_args)\n",
      "  File \"/Users/zlying/opt/miniconda3/envs/py310/lib/python3.10/site-packages/dtale/views.py\", line 1238, in view_main\n",
      "    if not global_state.contains(data_id):\n",
      "  File \"/Users/zlying/opt/miniconda3/envs/py310/lib/python3.10/site-packages/dtale/global_state.py\", line 164, in contains\n",
      "    return int(key) in self._data_store\n",
      "ValueError: invalid literal for int() with base 10: 'highLightTitle.png'\n"
     ]
    },
    {
     "name": "stderr",
     "output_type": "stream",
     "text": [
      "2024-05-20 17:22:32,824 - ERROR    - Exception on /dtale/main/highLightTitle.png [GET]\n",
      "Traceback (most recent call last):\n",
      "  File \"/Users/zlying/opt/miniconda3/envs/py310/lib/python3.10/site-packages/flask/app.py\", line 2528, in wsgi_app\n",
      "    response = self.full_dispatch_request()\n",
      "  File \"/Users/zlying/opt/miniconda3/envs/py310/lib/python3.10/site-packages/flask/app.py\", line 1825, in full_dispatch_request\n",
      "    rv = self.handle_user_exception(e)\n",
      "  File \"/Users/zlying/opt/miniconda3/envs/py310/lib/python3.10/site-packages/flask/app.py\", line 1823, in full_dispatch_request\n",
      "    rv = self.dispatch_request()\n",
      "  File \"/Users/zlying/opt/miniconda3/envs/py310/lib/python3.10/site-packages/flask/app.py\", line 1799, in dispatch_request\n",
      "    return self.ensure_sync(self.view_functions[rule.endpoint])(**view_args)\n",
      "  File \"/Users/zlying/opt/miniconda3/envs/py310/lib/python3.10/site-packages/dtale/views.py\", line 1238, in view_main\n",
      "    if not global_state.contains(data_id):\n",
      "  File \"/Users/zlying/opt/miniconda3/envs/py310/lib/python3.10/site-packages/dtale/global_state.py\", line 164, in contains\n",
      "    return int(key) in self._data_store\n",
      "ValueError: invalid literal for int() with base 10: 'highLightTitle.png'\n"
     ]
    }
   ],
   "source": [
    "dtale.show(rsi)"
   ]
  },
  {
   "cell_type": "code",
   "execution_count": 24,
   "id": "375b94f0",
   "metadata": {},
   "outputs": [
    {
     "name": "stdout",
     "output_type": "stream",
     "text": [
      "Stock: aapl, Date: 2024-03-04 00:00:00, RSI: 29.72647350317042, ROC: -8.885026023456376\n",
      "Stock: aapl, Date: 2024-03-11 00:00:00, RSI: 34.68239514317925, ROC: -6.93008904361564\n",
      "Stock: meta, Date: 2024-04-29 00:00:00, RSI: 29.676874050816775, ROC: -15.102632262455252\n",
      "Stock: meta, Date: 2024-05-06 00:00:00, RSI: 46.69969559880495, ROC: -5.224384473158283\n",
      "end\n"
     ]
    }
   ],
   "source": [
    "rsi_signal = rsi < 30\n",
    "\n",
    "# Create a signal based on ROC\n",
    "\n",
    "roc_signal = roc > 5\n",
    "\n",
    "# Create the combined signal\n",
    "\n",
    "combined_signal = rsi_signal \n",
    "\n",
    "# Create the strategy\n",
    "\n",
    "my_strategy = bt.Strategy('s1', [\n",
    "    bt.algos.RunAfterDate('2023-07-01'), # Run after the specified date\n",
    "    bt.algos.RunWeekly(),\n",
    "    bt.algos.SelectWhere(combined_signal),\n",
    "    #bt.algos.SelectMomentum(n=1, lookback=pd.DateOffset(days=25)),\n",
    "    bt.algos.WeighEqually(),\n",
    "    bt.algos.Rebalance()\n",
    "])\n",
    "\n",
    "# Create the backtest and run it\n",
    "\n",
    "test = bt.Backtest(my_strategy, data)\n",
    "result = bt.run(test)\n",
    "\n",
    "# Access RSI values\n",
    "\n",
    "rsi_values_list = []\n",
    "roc_values_list = []\n",
    "\n",
    "# Get the latest transactions\n",
    "\n",
    "latest_transactions = result.get_transactions().tail(10) # You can adjust the number as needed\n",
    "\n",
    "# Print RSI values for the stocks in the latest transactions\n",
    "\n",
    "#for stock, date in latest_transactions.index:\n",
    "for date, stock in latest_transactions.index:\n",
    "    rsi_value = rsi.loc[date, stock]\n",
    "    roc_value = roc.loc[date, stock]\n",
    "    print(f\"Stock: {stock}, Date: {date}, RSI: {rsi_value}, ROC: {roc_value}\")\n",
    "\n",
    "print(\"end\")"
   ]
  },
  {
   "cell_type": "code",
   "execution_count": 27,
   "id": "993975bd",
   "metadata": {},
   "outputs": [
    {
     "data": {
      "text/html": [
       "<div>\n",
       "<style scoped>\n",
       "    .dataframe tbody tr th:only-of-type {\n",
       "        vertical-align: middle;\n",
       "    }\n",
       "\n",
       "    .dataframe tbody tr th {\n",
       "        vertical-align: top;\n",
       "    }\n",
       "\n",
       "    .dataframe thead th {\n",
       "        text-align: right;\n",
       "    }\n",
       "</style>\n",
       "<table border=\"1\" class=\"dataframe\">\n",
       "  <thead>\n",
       "    <tr style=\"text-align: right;\">\n",
       "      <th></th>\n",
       "      <th></th>\n",
       "      <th>price</th>\n",
       "      <th>quantity</th>\n",
       "    </tr>\n",
       "    <tr>\n",
       "      <th>Date</th>\n",
       "      <th>Security</th>\n",
       "      <th></th>\n",
       "      <th></th>\n",
       "    </tr>\n",
       "  </thead>\n",
       "  <tbody>\n",
       "    <tr>\n",
       "      <th>2024-03-04</th>\n",
       "      <th>aapl</th>\n",
       "      <td>174.862823</td>\n",
       "      <td>5718.0</td>\n",
       "    </tr>\n",
       "    <tr>\n",
       "      <th>2024-03-11</th>\n",
       "      <th>aapl</th>\n",
       "      <td>172.516006</td>\n",
       "      <td>-5718.0</td>\n",
       "    </tr>\n",
       "    <tr>\n",
       "      <th>2024-04-29</th>\n",
       "      <th>meta</th>\n",
       "      <td>432.619995</td>\n",
       "      <td>2280.0</td>\n",
       "    </tr>\n",
       "    <tr>\n",
       "      <th>2024-05-06</th>\n",
       "      <th>meta</th>\n",
       "      <td>465.679993</td>\n",
       "      <td>-2280.0</td>\n",
       "    </tr>\n",
       "  </tbody>\n",
       "</table>\n",
       "</div>"
      ],
      "text/plain": [
       "                          price  quantity\n",
       "Date       Security                      \n",
       "2024-03-04 aapl      174.862823    5718.0\n",
       "2024-03-11 aapl      172.516006   -5718.0\n",
       "2024-04-29 meta      432.619995    2280.0\n",
       "2024-05-06 meta      465.679993   -2280.0"
      ]
     },
     "execution_count": 27,
     "metadata": {},
     "output_type": "execute_result"
    }
   ],
   "source": [
    "result.get_transactions()"
   ]
  },
  {
   "cell_type": "code",
   "execution_count": 20,
   "id": "b50e0bc7",
   "metadata": {},
   "outputs": [
    {
     "name": "stdout",
     "output_type": "stream",
     "text": [
      "Stat                 s1\n",
      "-------------------  ----------\n",
      "Start                2024-01-01\n",
      "End                  2024-05-17\n",
      "Risk-free rate       0.00%\n",
      "\n",
      "Total Return         6.20%\n",
      "Daily Sharpe         1.81\n",
      "Daily Sortino        3.39\n",
      "CAGR                 17.38%\n",
      "Max Drawdown         -3.48%\n",
      "Calmar Ratio         4.99\n",
      "\n",
      "MTD                  8.25%\n",
      "3m                   6.20%\n",
      "6m                   -\n",
      "YTD                  6.20%\n",
      "1Y                   -\n",
      "3Y (ann.)            -\n",
      "5Y (ann.)            -\n",
      "10Y (ann.)           -\n",
      "Since Incep. (ann.)  17.38%\n",
      "\n",
      "Daily Sharpe         1.81\n",
      "Daily Sortino        3.39\n",
      "Daily Mean (ann.)    16.18%\n",
      "Daily Vol (ann.)     8.94%\n",
      "Daily Skew           1.41\n",
      "Daily Kurt           18.66\n",
      "Best Day             3.04%\n",
      "Worst Day            -2.84%\n",
      "\n",
      "Monthly Sharpe       1.23\n",
      "Monthly Sortino      8.65\n",
      "Monthly Mean (ann.)  19.04%\n",
      "Monthly Vol (ann.)   15.51%\n",
      "Monthly Skew         1.91\n",
      "Monthly Kurt         3.71\n",
      "Best Month           8.25%\n",
      "Worst Month          -1.34%\n",
      "\n",
      "Yearly Sharpe        -\n",
      "Yearly Sortino       -\n",
      "Yearly Mean          -\n",
      "Yearly Vol           -\n",
      "Yearly Skew          -\n",
      "Yearly Kurt          -\n",
      "Best Year            -\n",
      "Worst Year           -\n",
      "\n",
      "Avg. Drawdown        -3.48%\n",
      "Avg. Drawdown Days   57.00\n",
      "Avg. Up Month        8.25%\n",
      "Avg. Down Month      -0.64%\n",
      "Win Year %           -\n",
      "Win 12m %            -\n"
     ]
    }
   ],
   "source": [
    "result.display()"
   ]
  },
  {
   "cell_type": "code",
   "execution_count": null,
   "id": "907615bb",
   "metadata": {},
   "outputs": [],
   "source": []
  }
 ],
 "metadata": {
  "kernelspec": {
   "display_name": "Python 3 (ipykernel)",
   "language": "python",
   "name": "python3"
  },
  "language_info": {
   "codemirror_mode": {
    "name": "ipython",
    "version": 3
   },
   "file_extension": ".py",
   "mimetype": "text/x-python",
   "name": "python",
   "nbconvert_exporter": "python",
   "pygments_lexer": "ipython3",
   "version": "3.10.13"
  }
 },
 "nbformat": 4,
 "nbformat_minor": 5
}
